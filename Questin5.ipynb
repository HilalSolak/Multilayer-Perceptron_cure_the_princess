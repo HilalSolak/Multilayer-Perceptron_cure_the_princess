{
  "nbformat": 4,
  "nbformat_minor": 0,
  "metadata": {
    "colab": {
      "provenance": [],
      "authorship_tag": "ABX9TyOELWWCTxUvQULVAmMYB8VQ",
      "include_colab_link": true
    },
    "kernelspec": {
      "name": "python3",
      "display_name": "Python 3"
    },
    "language_info": {
      "name": "python"
    }
  },
  "cells": [
    {
      "cell_type": "markdown",
      "metadata": {
        "id": "view-in-github",
        "colab_type": "text"
      },
      "source": [
        "<a href=\"https://colab.research.google.com/github/HilalSolak/Multilayer-Perceptron_cure_the_princess/blob/main/Questin5.ipynb\" target=\"_parent\"><img src=\"https://colab.research.google.com/assets/colab-badge.svg\" alt=\"Open In Colab\"/></a>"
      ]
    },
    {
      "cell_type": "code",
      "source": [
        "import pandas as pd\n",
        "import torch\n",
        "import torch.nn as nn\n",
        "import torch.optim as optim\n",
        "from torch.utils.data import Dataset, DataLoader\n",
        "from sklearn.model_selection import train_test_split\n",
        "from sklearn.preprocessing import StandardScaler\n",
        "\n",
        "class PrincessDataset(Dataset):\n",
        "    def __init__(self, data):\n",
        "        self.data = data\n",
        "        self.X = data.iloc[:, :-1].values\n",
        "        self.y = data.iloc[:, -1].values\n",
        "\n",
        "        scaler = StandardScaler()\n",
        "        self.X = scaler.fit_transform(self.X)\n",
        "\n",
        "    def __len__(self):\n",
        "        return len(self.data)\n",
        "\n",
        "    def __getitem__(self, idx):\n",
        "        X = torch.FloatTensor(self.X[idx])\n",
        "        y = torch.LongTensor([self.y[idx]])\n",
        "        return X, y\n",
        "\n",
        "# Load data\n",
        "train_data = pd.read_csv('/content/cvsdosyaları/cure_the_princess_train.csv')\n",
        "val_data = pd.read_csv('/content/cvsdosyaları/cure_the_princess_validation.csv')\n",
        "test_data = pd.read_csv('/content/cvsdosyaları/cure_the_princess_test.csv')\n",
        "\n",
        "# Create datasets\n",
        "train_dataset = PrincessDataset(train_data)\n",
        "val_dataset = PrincessDataset(val_data)\n",
        "test_dataset = PrincessDataset(test_data)\n",
        "\n",
        "# Create dataloaders\n",
        "train_loader = DataLoader(train_dataset, batch_size=16, shuffle=True)\n",
        "val_loader = DataLoader(val_dataset, batch_size=16, shuffle=True)\n",
        "test_loader = DataLoader(test_dataset, batch_size=16, shuffle=True)\n",
        "\n",
        "# Hyperparameters\n",
        "input_dim = 13\n",
        "hidden_dim1 = 100\n",
        "hidden_dim2 = 50\n",
        "output_dim = 14\n",
        "lr = 0.01\n",
        "epochs = 25\n",
        "batch_size = 16\n",
        "\n",
        "# Define MLP model\n",
        "model = MLP(input_dim, hidden_dim1, hidden_dim2, output_dim)\n",
        "\n",
        "# Define loss function\n",
        "criterion = nn.CrossEntropyLoss()\n",
        "\n",
        "# Define optimizer\n",
        "optimizer = optim.SGD(model.parameters(), lr=lr)\n",
        "\n",
        "# Training loop\n",
        "for epoch in range(epochs):\n",
        "    model.train()\n",
        "    for batch_idx, (data, target) in enumerate(train_loader):\n",
        "        optimizer.zero_grad()\n",
        "        output = model(data)\n",
        "        loss = criterion(output, target.squeeze())\n",
        "        loss.backward()\n",
        "        optimizer.step()\n",
        "\n",
        "    model.eval()\n",
        "    correct = 0\n",
        "    total = 0\n",
        "    with torch.no_grad():\n",
        "        for data, target in val_loader:\n",
        "            output = model(data)\n",
        "            _, predicted = torch.max(output.data, 1)\n",
        "            total += target.size(0)\n",
        "            correct += (predicted == target.squeeze()).sum().item()\n",
        "    \n",
        "    accuracy = 100 * correct / total\n",
        "    print('Epoch: {}, Validation Accuracy: {:.2f}%'.format(epoch+1, accuracy))\n"
      ],
      "metadata": {
        "colab": {
          "base_uri": "https://localhost:8080/"
        },
        "id": "ABrZNzSuRrUw",
        "outputId": "a1d7dcac-dbdd-4867-e52d-520aec3ebbd5"
      },
      "execution_count": null,
      "outputs": [
        {
          "output_type": "stream",
          "name": "stdout",
          "text": [
            "Epoch: 1, Validation Accuracy: 62.10%\n",
            "Epoch: 2, Validation Accuracy: 67.52%\n",
            "Epoch: 3, Validation Accuracy: 74.84%\n",
            "Epoch: 4, Validation Accuracy: 77.71%\n",
            "Epoch: 5, Validation Accuracy: 79.94%\n",
            "Epoch: 6, Validation Accuracy: 84.39%\n",
            "Epoch: 7, Validation Accuracy: 84.08%\n",
            "Epoch: 8, Validation Accuracy: 87.90%\n",
            "Epoch: 9, Validation Accuracy: 90.76%\n",
            "Epoch: 10, Validation Accuracy: 92.04%\n",
            "Epoch: 11, Validation Accuracy: 92.04%\n",
            "Epoch: 12, Validation Accuracy: 92.99%\n",
            "Epoch: 13, Validation Accuracy: 93.63%\n",
            "Epoch: 14, Validation Accuracy: 93.95%\n",
            "Epoch: 15, Validation Accuracy: 93.63%\n",
            "Epoch: 16, Validation Accuracy: 92.99%\n",
            "Epoch: 17, Validation Accuracy: 93.31%\n",
            "Epoch: 18, Validation Accuracy: 93.95%\n",
            "Epoch: 19, Validation Accuracy: 92.99%\n",
            "Epoch: 20, Validation Accuracy: 93.95%\n",
            "Epoch: 21, Validation Accuracy: 93.63%\n",
            "Epoch: 22, Validation Accuracy: 93.63%\n",
            "Epoch: 23, Validation Accuracy: 93.95%\n",
            "Epoch: 24, Validation Accuracy: 93.95%\n",
            "Epoch: 25, Validation Accuracy: 93.95%\n"
          ]
        }
      ]
    },
    {
      "cell_type": "code",
      "source": [
        "train_losses = []\n",
        "val_losses = []\n",
        "for epoch in range(epochs):\n",
        "    model.train()\n",
        "    train_loss = 0.0\n",
        "    for batch_idx, (data, target) in enumerate(train_loader):\n",
        "        optimizer.zero_grad()\n",
        "        output = model(data)\n",
        "        loss = criterion(output, target.squeeze())\n",
        "        loss.backward()\n",
        "        optimizer.step()\n",
        "        train_loss += loss.item()\n",
        "    train_losses.append(train_loss/len(train_loader))\n",
        "\n",
        "    model.eval()\n",
        "    val_loss = 0.0\n",
        "    correct = 0\n",
        "    total = 0\n",
        "    with torch.no_grad():\n",
        "        for data, target in val_loader:\n",
        "            output = model(data)\n",
        "            loss = criterion(output, target.squeeze())\n",
        "            val_loss += loss.item()\n",
        "            _, predicted = torch.max(output.data, 1)\n",
        "            total += target.size(0)\n",
        "            correct += (predicted == target.squeeze()).sum().item()\n",
        "        val_losses.append(val_loss/len(val_loader))\n",
        "    \n",
        "    accuracy = 100 * correct / total\n",
        "    print('Epoch: {}, Validation Accuracy: {:.2f}%'.format(epoch+1, accuracy))\n",
        "\n",
        "import matplotlib.pyplot as plt\n",
        "\n",
        "plt.plot(train_losses, label='Training loss')\n",
        "plt.plot(val_losses, label='Validation loss')\n",
        "plt.legend()\n",
        "plt.show()"
      ],
      "metadata": {
        "colab": {
          "base_uri": "https://localhost:8080/",
          "height": 864
        },
        "id": "kiyB8_1_Xo9m",
        "outputId": "0348631e-9a42-408a-c96e-355a90da80e1"
      },
      "execution_count": null,
      "outputs": [
        {
          "output_type": "stream",
          "name": "stdout",
          "text": [
            "Epoch: 1, Validation Accuracy: 93.95%\n",
            "Epoch: 2, Validation Accuracy: 94.27%\n",
            "Epoch: 3, Validation Accuracy: 93.95%\n",
            "Epoch: 4, Validation Accuracy: 94.59%\n",
            "Epoch: 5, Validation Accuracy: 94.27%\n",
            "Epoch: 6, Validation Accuracy: 94.27%\n",
            "Epoch: 7, Validation Accuracy: 93.95%\n",
            "Epoch: 8, Validation Accuracy: 93.95%\n",
            "Epoch: 9, Validation Accuracy: 94.27%\n",
            "Epoch: 10, Validation Accuracy: 93.63%\n",
            "Epoch: 11, Validation Accuracy: 94.27%\n",
            "Epoch: 12, Validation Accuracy: 93.95%\n",
            "Epoch: 13, Validation Accuracy: 95.54%\n",
            "Epoch: 14, Validation Accuracy: 94.59%\n",
            "Epoch: 15, Validation Accuracy: 94.59%\n",
            "Epoch: 16, Validation Accuracy: 93.95%\n",
            "Epoch: 17, Validation Accuracy: 94.27%\n",
            "Epoch: 18, Validation Accuracy: 94.27%\n",
            "Epoch: 19, Validation Accuracy: 94.59%\n",
            "Epoch: 20, Validation Accuracy: 93.95%\n",
            "Epoch: 21, Validation Accuracy: 94.27%\n",
            "Epoch: 22, Validation Accuracy: 94.27%\n",
            "Epoch: 23, Validation Accuracy: 94.59%\n",
            "Epoch: 24, Validation Accuracy: 94.90%\n",
            "Epoch: 25, Validation Accuracy: 94.90%\n"
          ]
        },
        {
          "output_type": "display_data",
          "data": {
            "text/plain": [
              "<Figure size 640x480 with 1 Axes>"
            ],
            "image/png": "[encoded data removed]"
          },
          "metadata": {}
        }
      ]
    }
  ]
}